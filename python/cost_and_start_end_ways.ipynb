{
 "cells": [
  {
   "cell_type": "code",
   "execution_count": 1,
   "id": "b8e60681-b584-42ef-bbec-8246af29657a",
   "metadata": {},
   "outputs": [],
   "source": [
    "from geopy.distance import geodesic\n",
    "import osmium\n",
    "import os\n",
    "import math\n",
    "from scipy.spatial import KDTree\n",
    "import numpy as np\n",
    "\n",
    "out_file = \"../osm/cost.osm\"\n",
    "input_file = '../osm/divided.osm'"
   ]
  },
  {
   "cell_type": "code",
   "execution_count": 2,
   "id": "2ef0ec60-e4fa-473f-98f9-640c2b788146",
   "metadata": {},
   "outputs": [],
   "source": [
    "def check_cost(length, lanes):\n",
    "    return length / math.sqrt(lanes)"
   ]
  },
  {
   "cell_type": "code",
   "execution_count": 3,
   "id": "08091859-48f1-415f-96a2-d86a858cdc2a",
   "metadata": {},
   "outputs": [],
   "source": [
    "class OSMHandler(osmium.SimpleHandler):\n",
    "    def __init__(self):\n",
    "        super().__init__()\n",
    "        self.node_locs = osmium.index.create_map(\"sparse_mem_array\")\n",
    "        self.loc_handler = osmium.NodeLocationsForWays(self.node_locs)\n",
    "        self.ways = []\n",
    "        self.builsings = []\n",
    "        self.nods_way = []\n",
    "        self.nods_build = []\n",
    "        \n",
    "    def node(self, n: osmium.Node):\n",
    "        self.node_locs.set(n.id, n.location)\n",
    "\n",
    "    def way(self, w: osmium.Way):\n",
    "        if 'highway' in w.tags:\n",
    "            total_length = 0.0\n",
    "            lanes = float(w.tags.get('lanes', '2'))\n",
    "            prev_node = None\n",
    "            for n in w.nodes:\n",
    "                #print((n.ref, n.location.lat, n.location.lon))\n",
    "                self.nods_way.append((n.ref, n.location))\n",
    "                if n.location.valid():\n",
    "                    if prev_node is not None:\n",
    "                        total_length += geodesic((prev_node.lat, prev_node.lon), (n.location.lat, n.location.lon)).meters\n",
    "                    prev_node = n.location \n",
    "            cost = check_cost(total_length, lanes)\n",
    "            new_way = osmium.osm.mutable.Way(w)\n",
    "            new_way.tags = dict(w.tags)\n",
    "            new_way.tags['cost'] = f\"{cost:.2f}\"\n",
    "            self.ways.append((w.id, dict(w.tags), cost, list(w.nodes)))\n",
    "        elif 'building' in w.tags:\n",
    "            lat = 0\n",
    "            lon = 0\n",
    "            for n in w.nodes:\n",
    "                self.nods_build.append((n.ref, n.location)) #useless\n",
    "                lat = lat + n.lat\n",
    "                lon = lon + n.lon\n",
    "            lat = lat/len(w.nodes)\n",
    "            lon = lon/len(w.nodes)\n",
    "            self.builsings.append((w.id, dict(w.tags), lat, lon))\n"
   ]
  },
  {
   "cell_type": "code",
   "execution_count": 4,
   "id": "ecc539ad",
   "metadata": {},
   "outputs": [],
   "source": [
    "def save_modified_ways(ways, nodes, writer):\n",
    "    for id, loc in nodes:\n",
    "        node = osmium.osm.mutable.Node()\n",
    "        node.id = id\n",
    "        node.location = loc \n",
    "        writer.add_node(node)\n",
    "\n",
    "    for way_id, tags, cost, nods in ways:\n",
    "        new_way = osmium.osm.mutable.Way()\n",
    "        new_way.id = way_id\n",
    "        new_way.tags = tags\n",
    "        new_way.tags['cost'] = f\"{cost:.2f}\"\n",
    "        new_way.nodes = nods\n",
    "        writer.add_way(new_way)\n",
    "    writer.close()"
   ]
  },
  {
   "cell_type": "code",
   "execution_count": 6,
   "id": "dd3daa66",
   "metadata": {},
   "outputs": [],
   "source": [
    "def save_start_end_predict(buildings, nodes_way):\n",
    "    # Создаем массив координат нод для KD-Tree\n",
    "    node_coords = [(loc.lat, loc.lon) for (ref, loc) in nodes_way]\n",
    "    node_tree = KDTree(node_coords)\n",
    "\n",
    "\n",
    "    residential_buildings = []\n",
    "    commercial_buildings = []\n",
    "\n",
    "    capacity_residential = 1.0 \n",
    "    capacity_commercial = 10.0 \n",
    "    \n",
    "    for id, tags, lat, lon in buildings:\n",
    "        building_type = tags.get('building', \"yes\")\n",
    "        building_coord = (lat, lon)\n",
    "        capacity = 0\n",
    "        \n",
    "        if building_type in ['residential', 'house', 'apartments', 'dormitory', 'terrace', 'detached', 'bungalow']:\n",
    "            match building_type:\n",
    "                case 'apartments':\n",
    "                    # print(tags.get('building:levels', -1), tags.get('length', -1), tags.get('width', -1) )\n",
    "                    capacity = capacity_residential\n",
    "                case 'residential','residential', 'house','dormitory', 'terrace', 'detached', 'bungalow':\n",
    "                    # print(\"Обработка случая 2\")\n",
    "                    1 + 1            \n",
    "            capacity = capacity_residential\n",
    "            residential_buildings.append((id, building_coord, capacity))\n",
    "        elif building_type in ['commercial', 'office', 'industrial', \"retail\", \"store\", \"school\", \"hospital\", 'garages', 'warehouse', 'service', 'kindergarten']:\n",
    "            capacity = capacity_commercial\n",
    "            commercial_buildings.append((id, building_coord, capacity))\n",
    "            # print(building_type)\n",
    "        elif building_type != 'yes':\n",
    "            print(building_type)\n"
   ]
  },
  {
   "cell_type": "code",
   "execution_count": 8,
   "id": "74708fd6-e3dd-4ca9-82ee-13e25d6e7e08",
   "metadata": {},
   "outputs": [],
   "source": [
    "\n",
    "if os.path.exists(out_file):\n",
    "    os.remove(out_file)\n",
    "\n",
    "writer = osmium.SimpleWriter(out_file)\n",
    "\n",
    "try:\n",
    "    h = OSMHandler()\n",
    "    h.apply_file(input_file, locations=True)\n",
    "    save_start_end_predict(h.builsings, h.nods_way)\n",
    "    save_modified_ways(h.ways, h.nods_way, writer)\n",
    "finally:\n",
    "    writer.close()  "
   ]
  },
  {
   "cell_type": "code",
   "execution_count": null,
   "id": "b011724b-856f-49c6-9c5a-910ae9cb5584",
   "metadata": {},
   "outputs": [],
   "source": []
  }
 ],
 "metadata": {
  "kernelspec": {
   "display_name": "Python 3 (ipykernel)",
   "language": "python",
   "name": "python3"
  },
  "language_info": {
   "codemirror_mode": {
    "name": "ipython",
    "version": 3
   },
   "file_extension": ".py",
   "mimetype": "text/x-python",
   "name": "python",
   "nbconvert_exporter": "python",
   "pygments_lexer": "ipython3",
   "version": "3.11.3"
  }
 },
 "nbformat": 4,
 "nbformat_minor": 5
}

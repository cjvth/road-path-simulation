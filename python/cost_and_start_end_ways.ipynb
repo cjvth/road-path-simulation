{
 "cells": [
  {
   "cell_type": "code",
   "execution_count": 22,
   "id": "b8e60681-b584-42ef-bbec-8246af29657a",
   "metadata": {},
   "outputs": [],
   "source": [
    "from geopy.distance import geodesic\n",
    "import osmium\n",
    "import os\n",
    "import math\n",
    "from scipy.spatial import KDTree\n",
    "import numpy as np\n",
    "\n",
    "out_file = \"../osm/cost.osm\"\n",
    "input_file = '../osm/divided.osm'"
   ]
  },
  {
   "cell_type": "code",
   "execution_count": 23,
   "id": "2ef0ec60-e4fa-473f-98f9-640c2b788146",
   "metadata": {},
   "outputs": [],
   "source": [
    "def check_cost(length, lanes):\n",
    "    return length / math.sqrt(lanes)"
   ]
  },
  {
   "cell_type": "code",
   "execution_count": 45,
   "id": "08091859-48f1-415f-96a2-d86a858cdc2a",
   "metadata": {},
   "outputs": [],
   "source": [
    "class OSMHandler(osmium.SimpleHandler):\n",
    "    def __init__(self):\n",
    "        super().__init__()\n",
    "        self.node_locs = osmium.index.create_map(\"sparse_mem_array\")\n",
    "        self.loc_handler = osmium.NodeLocationsForWays(self.node_locs)\n",
    "        self.ways = []\n",
    "        self.builsings = []\n",
    "        self.nods_way = []\n",
    "        self.nods_build = []\n",
    "        \n",
    "    def node(self, n: osmium.Node):\n",
    "        self.node_locs.set(n.id, n.location)\n",
    "\n",
    "    def way(self, w: osmium.Way):\n",
    "       \n",
    "        if 'highway' in w.tags:\n",
    "            total_length = 0.0\n",
    "            lanes = float(w.tags.get('lanes', '2'))\n",
    "            prev_node = None\n",
    "            for n in w.nodes:\n",
    "                print(n)\n",
    "                self.nods_way.append((n.ref, n.location, 0, 0))\n",
    "                if n.location.valid():\n",
    "                    if prev_node is not None:\n",
    "                        total_length += geodesic((prev_node.lat, prev_node.lon), (n.location.lat, n.location.lon)).meters\n",
    "                    prev_node = n.location \n",
    "            cost = check_cost(total_length, lanes)\n",
    "            new_way = osmium.osm.mutable.Way(w)\n",
    "            new_way.tags = dict(w.tags)\n",
    "            new_way.tags['cost'] = f\"{cost:.2f}\"\n",
    "            self.ways.append((w.id, dict(w.tags), cost, list(w.nodes)))\n",
    "        elif 'building' in w.tags:\n",
    "            lat = 0\n",
    "            lon = 0\n",
    "            for n in w.nodes:\n",
    "                self.nods_build.append((n.ref, n.location)) #useless\n",
    "                lat = lat + n.lat\n",
    "                lon = lon + n.lon\n",
    "            lat = lat/len(w.nodes)\n",
    "            lon = lon/len(w.nodes)\n",
    "            self.builsings.append((w.id, dict(w.tags), lat, lon))\n"
   ]
  },
  {
   "cell_type": "code",
   "execution_count": 26,
   "id": "ecc539ad",
   "metadata": {},
   "outputs": [],
   "source": [
    "def save_modified_ways(ways, nodes_way, writer):\n",
    "    all =0\n",
    "    r = 0\n",
    "    c = 0\n",
    "    for id, loc, r_cap, c_cap in nodes_way:\n",
    "        node = osmium.osm.mutable.Node()\n",
    "        node.id = id\n",
    "        node.location = loc \n",
    "        node.tags = {}\n",
    "        if (r_cap != 0):\n",
    "            node.tags[\"r_cap\"] = str(r_cap)\n",
    "            r += 1\n",
    "        if (c_cap != 0):\n",
    "            node.tags[\"c_cap\"] = str(c_cap) \n",
    "            c += 1  \n",
    "        all += 1\n",
    "        writer.add_node(node)\n",
    "        \n",
    "    print(all, r, c)\n",
    "    for way_id, tags, cost, nods in ways:\n",
    "        new_way = osmium.osm.mutable.Way()\n",
    "        new_way.id = way_id\n",
    "        new_way.tags = tags\n",
    "        new_way.tags['cost'] = f\"{cost:.2f}\"\n",
    "        new_way.nodes = nods\n",
    "        writer.add_way(new_way)\n",
    "    writer.close()"
   ]
  },
  {
   "cell_type": "code",
   "execution_count": 41,
   "id": "dd3daa66",
   "metadata": {},
   "outputs": [],
   "source": [
    "def save_start_end_predict(buildings, nodes_way):\n",
    "    # Создаем массив координат нод для KD-Tree\n",
    "    print(nodes_way[0])\n",
    "    node_coords = [(loc.lat, loc.lon) for (ref, loc, r_cap, c_cap) in nodes_way]\n",
    "   \n",
    "    node_tree = KDTree(node_coords)\n",
    "\n",
    "    capacity_residential = 1.0 \n",
    "    capacity_commercial = 10.0 \n",
    "    \n",
    "    for id, tags, lat, lon in buildings:\n",
    "        building_type = tags.get('building', \"yes\")\n",
    "        building_coord = (lat, lon)\n",
    "        capacity = 5\n",
    "\n",
    "        distance, index = node_tree.query(building_coord)\n",
    "        \n",
    "        if building_type in ['residential', 'house', 'apartments', 'dormitory', 'terrace', 'detached', 'bungalow']:\n",
    "            match building_type:\n",
    "                case 'apartments':\n",
    "                    # print(tags.get('building:levels', -1), tags.get('length', -1), tags.get('width', -1) )\n",
    "                    capacity = 10\n",
    "                case 'residential','residential', 'house','dormitory', 'terrace', 'detached', 'bungalow':\n",
    "                    # print(\"Обработка случая 2\")\n",
    "                    capacity = 5    \n",
    "            ref, loc, r_cap, c_cap = nodes_way[index]\n",
    "            nodes_way[index] = (ref, loc, r_cap + capacity, c_cap)\n",
    "            #residential_buildings.append((id, building_coord, capacity))\n",
    "        elif building_type in ['commercial', 'office', 'industrial', \"retail\", \"store\", \"school\",\n",
    "                                \"hospital\", 'garages', 'warehouse', 'service', 'kindergarten']:\n",
    "            capacity = capacity_commercial\n",
    "            ref, loc, r_cap, c_cap = nodes_way[index]\n",
    "            nodes_way[index] = (ref, loc, r_cap, c_cap + capacity)\n",
    "            #commercial_buildings.append((id, building_coord, capacity))\n",
    "            #print(building_type)\n",
    "        # elif building_type != 'yes':\n",
    "        #     print(building_type)\n"
   ]
  },
  {
   "cell_type": "code",
   "execution_count": 46,
   "id": "74708fd6-e3dd-4ca9-82ee-13e25d6e7e08",
   "metadata": {},
   "outputs": [
    {
     "ename": "IndexError",
     "evalue": "list index out of range",
     "output_type": "error",
     "traceback": [
      "\u001b[1;31m---------------------------------------------------------------------------\u001b[0m",
      "\u001b[1;31mIndexError\u001b[0m                                Traceback (most recent call last)",
      "Cell \u001b[1;32mIn[46], line 9\u001b[0m\n\u001b[0;32m      7\u001b[0m     h \u001b[38;5;241m=\u001b[39m OSMHandler()\n\u001b[0;32m      8\u001b[0m     h\u001b[38;5;241m.\u001b[39mapply_file(input_file, locations\u001b[38;5;241m=\u001b[39m\u001b[38;5;28;01mTrue\u001b[39;00m)\n\u001b[1;32m----> 9\u001b[0m     \u001b[43msave_start_end_predict\u001b[49m\u001b[43m(\u001b[49m\u001b[43mh\u001b[49m\u001b[38;5;241;43m.\u001b[39;49m\u001b[43mbuilsings\u001b[49m\u001b[43m,\u001b[49m\u001b[43m \u001b[49m\u001b[43mh\u001b[49m\u001b[38;5;241;43m.\u001b[39;49m\u001b[43mnods_way\u001b[49m\u001b[43m)\u001b[49m\n\u001b[0;32m     10\u001b[0m     save_modified_ways(h\u001b[38;5;241m.\u001b[39mways, h\u001b[38;5;241m.\u001b[39mnods_way, writer)\n\u001b[0;32m     11\u001b[0m \u001b[38;5;28;01mfinally\u001b[39;00m:\n",
      "Cell \u001b[1;32mIn[41], line 3\u001b[0m, in \u001b[0;36msave_start_end_predict\u001b[1;34m(buildings, nodes_way)\u001b[0m\n\u001b[0;32m      1\u001b[0m \u001b[38;5;28;01mdef\u001b[39;00m \u001b[38;5;21msave_start_end_predict\u001b[39m(buildings, nodes_way):\n\u001b[0;32m      2\u001b[0m     \u001b[38;5;66;03m# Создаем массив координат нод для KD-Tree\u001b[39;00m\n\u001b[1;32m----> 3\u001b[0m     \u001b[38;5;28mprint\u001b[39m(\u001b[43mnodes_way\u001b[49m\u001b[43m[\u001b[49m\u001b[38;5;241;43m0\u001b[39;49m\u001b[43m]\u001b[49m)\n\u001b[0;32m      4\u001b[0m     node_coords \u001b[38;5;241m=\u001b[39m [(loc\u001b[38;5;241m.\u001b[39mlat, loc\u001b[38;5;241m.\u001b[39mlon) \u001b[38;5;28;01mfor\u001b[39;00m (ref, loc, r_cap, c_cap) \u001b[38;5;129;01min\u001b[39;00m nodes_way]\n\u001b[0;32m      6\u001b[0m     node_tree \u001b[38;5;241m=\u001b[39m KDTree(node_coords)\n",
      "\u001b[1;31mIndexError\u001b[0m: list index out of range"
     ]
    }
   ],
   "source": [
    "\n",
    "if os.path.exists(out_file):\n",
    "    os.remove(out_file)\n",
    "\n",
    "writer = osmium.SimpleWriter(out_file)\n",
    "\n",
    "try:\n",
    "    h = OSMHandler()\n",
    "    h.apply_file(input_file, locations=True)\n",
    "    save_start_end_predict(h.builsings, h.nods_way)\n",
    "    save_modified_ways(h.ways, h.nods_way, writer)\n",
    "finally:\n",
    "    writer.close()  "
   ]
  },
  {
   "cell_type": "code",
   "execution_count": null,
   "id": "b011724b-856f-49c6-9c5a-910ae9cb5584",
   "metadata": {},
   "outputs": [],
   "source": []
  }
 ],
 "metadata": {
  "kernelspec": {
   "display_name": "Python 3 (ipykernel)",
   "language": "python",
   "name": "python3"
  },
  "language_info": {
   "codemirror_mode": {
    "name": "ipython",
    "version": 3
   },
   "file_extension": ".py",
   "mimetype": "text/x-python",
   "name": "python",
   "nbconvert_exporter": "python",
   "pygments_lexer": "ipython3",
   "version": "3.11.3"
  }
 },
 "nbformat": 4,
 "nbformat_minor": 5
}

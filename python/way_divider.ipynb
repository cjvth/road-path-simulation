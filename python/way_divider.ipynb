{
 "cells": [
  {
   "cell_type": "code",
   "execution_count": 1,
   "id": "81246dbd-5e60-4be9-ada9-9519cbe30c46",
   "metadata": {},
   "outputs": [],
   "source": [
    "import osmium\n",
    "import os\n",
    "from itertools import islice"
   ]
  },
  {
   "cell_type": "code",
   "execution_count": 2,
   "id": "1be977dd-3abb-457a-bcda-38ab8be94a68",
   "metadata": {},
   "outputs": [],
   "source": [
    "node_usage = {}"
   ]
  },
  {
   "cell_type": "code",
   "execution_count": 3,
   "id": "79b0867b-7e00-405a-9f0f-24805fc7c47f",
   "metadata": {},
   "outputs": [],
   "source": [
    "class NodeIndexer(osmium.SimpleHandler):\n",
    "    def node(self, n: osmium.Node):\n",
    "        node_usage[n.id] = []\n",
    "\n",
    "    def way(self, w: osmium.Way):\n",
    "        if 'highway' not in w.tags:\n",
    "            return\n",
    "        for i in w.nodes:\n",
    "            node_usage[i.ref].append(w.id)"
   ]
  },
  {
   "cell_type": "code",
   "execution_count": 4,
   "id": "b39b11f8-4927-44e1-afcd-54dde8e75329",
   "metadata": {},
   "outputs": [],
   "source": [
    "node_usage = {}\n",
    "handler = NodeIndexer()\n",
    "handler.apply_file('../osm/export.osm')"
   ]
  },
  {
   "cell_type": "code",
   "execution_count": 5,
   "id": "574f3604-d421-4f61-b2d2-78c33f20cea0",
   "metadata": {},
   "outputs": [],
   "source": [
    "class WayDivider(osmium.SimpleHandler):\n",
    "    writer: osmium.SimpleWriter\n",
    "    \n",
    "    def __init__(self, writer: osmium.SimpleWriter):\n",
    "        super().__init__()\n",
    "        self.writer = writer\n",
    "        self.new_id_ = 1\n",
    "\n",
    "    def new_id(self):\n",
    "        a = self.new_id_\n",
    "        self.new_id_ += 1\n",
    "        return a\n",
    "        \n",
    "    def node(self, n: osmium.Node):\n",
    "        self.writer.add_node(n)\n",
    "\n",
    "    def way(self, w: osmium.Way):\n",
    "        if 'highway' not in w.tags:\n",
    "            return\n",
    "        divided_to = 0\n",
    "        divided = [w.nodes[0]]\n",
    "        for i in islice(w.nodes, 1, None):\n",
    "            divided.append(i)\n",
    "            if len(node_usage[i.ref]) > 1:\n",
    "                self.writer.add_way(w.replace(nodes=divided, id=self.new_id()))\n",
    "                divided = [i]\n",
    "                divided_to += 1\n",
    "        if len(divided) > 1:\n",
    "            self.writer.add_way(w.replace(nodes=divided, id=self.new_id()))\n",
    "            divided_to += 1\n",
    "        if divided_to == 0:\n",
    "            raise Exception(f\"divided to 0: {w.id}\")\n",
    "        if divided_to < 2 and (w.nodes.ends_have_same_id() or w.is_closed()):\n",
    "            print(divided_to)\n",
    "            raise Exception(f\"w.nodes.ends_have_same_id() or w.is_closed(): {w.id}\")"
   ]
  },
  {
   "cell_type": "code",
   "execution_count": 6,
   "id": "fd4c64a3-4158-4cbc-8b99-367b85daf6c2",
   "metadata": {},
   "outputs": [],
   "source": [
    "try:\n",
    "    os.remove(\"../osm/divided.osm\")\n",
    "except FileNotFoundError:\n",
    "    pass\n",
    "writer = osmium.SimpleWriter('../osm/divided.osm')\n",
    "handler = WayDivider(writer)\n",
    "handler.apply_file('../osm/export.osm')\n",
    "writer.close()"
   ]
  },
  {
   "cell_type": "code",
   "execution_count": null,
   "id": "7496017b-5136-422f-b3b6-6589202898c3",
   "metadata": {},
   "outputs": [],
   "source": []
  }
 ],
 "metadata": {
  "kernelspec": {
   "display_name": "Python 3 (ipykernel)",
   "language": "python",
   "name": "python3"
  },
  "language_info": {
   "codemirror_mode": {
    "name": "ipython",
    "version": 3
   },
   "file_extension": ".py",
   "mimetype": "text/x-python",
   "name": "python",
   "nbconvert_exporter": "python",
   "pygments_lexer": "ipython3",
   "version": "3.11.8"
  }
 },
 "nbformat": 4,
 "nbformat_minor": 5
}
